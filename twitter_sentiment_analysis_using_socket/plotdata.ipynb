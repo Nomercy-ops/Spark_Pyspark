{
 "cells": [
  {
   "cell_type": "markdown",
   "source": [
    "\"\"\"\n",
    "\n",
    "@Author: Rikesh Chhetri\n",
    "\n",
    "@Date: 2021-08-18\n",
    "\n",
    "@Last Modified by: Rikesh Chhetri\n",
    "\n",
    "@Last Modified time: 2021-08-18 07:03:30\n",
    "\n",
    "@Title : Program to perform live twitter sentiment analysis and visualization of those live data.\n",
    "\n",
    "\"\"\""
   ],
   "metadata": {}
  },
  {
   "cell_type": "code",
   "execution_count": 1,
   "source": [
    "import pandas as pd\n",
    "import matplotlib.pyplot as plt\n",
    "from matplotlib.animation import FuncAnimation\n",
    "from matplotlib import style\n",
    "from loghandler import logger\n",
    "%matplotlib \n",
    "\n",
    "style.use(\"seaborn\")\n",
    "\n",
    "def animate(i):\n",
    "    try:\n",
    "        data = pd.read_csv('data.csv')\n",
    "        x1 = data['pos']\n",
    "        x2 = data['neg']\n",
    "        y1 = data['p_count']\n",
    "        y2 = data['n_count']\n",
    "        plt.cla()\n",
    "        plt.bar(x1,y1,label=\"positive\",width=0.2)\n",
    "        plt.bar(x2,y2,label='negative',width=0.2)\n",
    "        plt.xlabel(\"sentiments\")\n",
    "        plt.ylabel(\"count\")\n",
    "        plt.legend(loc='center')\n",
    "        plt.tight_layout()\n",
    "\n",
    "    except Exception as e:\n",
    "        logger.info(e)\n",
    "\n",
    "\n",
    "ani = FuncAnimation(plt.gcf(),animate,interval=500)\n",
    "\n",
    "plt.tight_layout()\n",
    "plt.show()\n",
    "\n",
    "\n",
    "\n"
   ],
   "outputs": [],
   "metadata": {}
  }
 ],
 "metadata": {
  "orig_nbformat": 4,
  "language_info": {
   "name": "python",
   "version": "3.8.10",
   "mimetype": "text/x-python",
   "codemirror_mode": {
    "name": "ipython",
    "version": 3
   },
   "pygments_lexer": "ipython3",
   "nbconvert_exporter": "python",
   "file_extension": ".py"
  },
  "kernelspec": {
   "name": "python3",
   "display_name": "Python 3.8.10 64-bit"
  },
  "interpreter": {
   "hash": "916dbcbb3f70747c44a77c7bcd40155683ae19c65e1c03b4aa3499c5328201f1"
  }
 },
 "nbformat": 4,
 "nbformat_minor": 2
}