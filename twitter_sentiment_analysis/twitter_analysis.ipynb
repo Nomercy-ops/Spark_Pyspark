{
 "cells": [
  {
   "cell_type": "markdown",
   "source": [
    "\"\"\"\n",
    "\n",
    "@Author: Rikesh Chhetri\n",
    "\n",
    "@Date: 2021-08-18\n",
    "\n",
    "@Last Modified by: Rikesh Chhetri\n",
    "\n",
    "@Last Modified time: 2021-08-18 07:03:30\n",
    "\n",
    "@Title : Program to perform live twitter sentiment analysis and visualization of those live data.\n",
    "\n",
    "\"\"\""
   ],
   "metadata": {}
  },
  {
   "cell_type": "code",
   "execution_count": null,
   "source": [
    "import tweepy\n",
    "from  textblob import TextBlob \n",
    "from loghandler import logger\n",
    "import csv\n",
    "import time\n",
    "import os\n",
    "from dotenv import load_dotenv\n",
    "load_dotenv('.env')\n"
   ],
   "outputs": [],
   "metadata": {}
  },
  {
   "cell_type": "code",
   "execution_count": null,
   "source": [
    "# all 4 authentication keys to access twitter API\n",
    "# to connect as OAth handler or jump server / revers proxy server\n",
    "consumer_key=os.getenv(\"CONSUMER_KEY\")\n",
    "consumer_secret=os.getenv(\"CONSUMER_SECRET\")\n",
    "access_token =os.getenv(\"ACCESS_TOKEN\")\n",
    "access_secret=os.getenv(\"ACCESS_SECRET\")"
   ],
   "outputs": [],
   "metadata": {}
  },
  {
   "cell_type": "code",
   "execution_count": null,
   "source": [
    "# connected to jump server of twitter\n",
    "auth = tweepy.OAuthHandler(consumer_key,consumer_secret)"
   ],
   "outputs": [],
   "metadata": {}
  },
  {
   "cell_type": "code",
   "execution_count": null,
   "source": [
    "# now we can connect from jump server to web server of twitter\n",
    "auth.set_access_token(access_token,access_secret)"
   ],
   "outputs": [],
   "metadata": {}
  },
  {
   "cell_type": "code",
   "execution_count": null,
   "source": [
    "# now we can connect to API storge server of twitter\n",
    "api_connect=tweepy.API(auth)\n"
   ],
   "outputs": [],
   "metadata": {}
  },
  {
   "cell_type": "code",
   "execution_count": null,
   "source": [
    "# now you can search any topic on twitter\n",
    "tweet_data=api_connect.search('#Afghanistan')\n",
    "\n"
   ],
   "outputs": [],
   "metadata": {}
  },
  {
   "cell_type": "code",
   "execution_count": null,
   "source": [
    "\n",
    "pos='positive'\n",
    "neg='negative'\n",
    "p_count=0\n",
    "n_count=0\n",
    "\n",
    "opinion = [\"pos\",\"neg\",\"p_count\",\"n_count\"]\n",
    "try:\n",
    "   with open('data.csv', 'w') as csv_file:\n",
    "         csv_writer = csv.DictWriter(csv_file, fieldnames=opinion)\n",
    "         csv_writer.writeheader()\n",
    "\n",
    "   while True:\n",
    "   # printing line by line\n",
    "      with open('data.csv', 'a') as csv_file:\n",
    "         for tweet in tweet_data:\n",
    "            logger.info(tweet.text)\n",
    "            analysis=TextBlob(tweet.text) # here it will apply NLP\\\n",
    "            logger.info(analysis.sentiment)\n",
    "            # now checking polarity only\n",
    "            if analysis.sentiment.polarity > 0:\n",
    "               logger.info(\"positive\")\n",
    "               p_count = p_count + 1\n",
    "            elif analysis.sentiment[0]<0:\n",
    "               logger.info(\"Negative\")\n",
    "               n_count = n_count + 1\n",
    "            else :\n",
    "               logger.info(\"Neutral\")\n",
    "            csv_writer = csv.DictWriter(csv_file, fieldnames=opinion)\n",
    "            info = {\n",
    "                     \"pos\": pos,\n",
    "                     \"neg\": neg,\n",
    "                     \"p_count\":p_count,\n",
    "                     \"n_count\":n_count\n",
    "                     }\n",
    "            csv_writer.writerow(info)\n",
    "            time.sleep(1) \n",
    "            print(p_count,n_count)\n",
    "except Exception as e:\n",
    "   logger.error(e)\n",
    "           "
   ],
   "outputs": [],
   "metadata": {}
  }
 ],
 "metadata": {
  "orig_nbformat": 4,
  "language_info": {
   "name": "python",
   "version": "3.8.10",
   "mimetype": "text/x-python",
   "codemirror_mode": {
    "name": "ipython",
    "version": 3
   },
   "pygments_lexer": "ipython3",
   "nbconvert_exporter": "python",
   "file_extension": ".py"
  },
  "kernelspec": {
   "name": "python3",
   "display_name": "Python 3.8.10 64-bit"
  },
  "interpreter": {
   "hash": "916dbcbb3f70747c44a77c7bcd40155683ae19c65e1c03b4aa3499c5328201f1"
  }
 },
 "nbformat": 4,
 "nbformat_minor": 2
}