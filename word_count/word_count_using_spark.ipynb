{
 "cells": [
  {
   "cell_type": "markdown",
   "source": [
    "\"\"\"\n",
    "\n",
    "@Author: Rikesh Chhetri\n",
    "\n",
    "@Date: 2021-08-16\n",
    "\n",
    "@Last Modified by: RIkesh Chhetri\n",
    "\n",
    "@Last Modified time: 2021-08-16\n",
    "\n",
    "@Title : Program Aim is to do word count program in pyspark.\n",
    "\n",
    "\"\"\"\n"
   ],
   "metadata": {}
  },
  {
   "cell_type": "code",
   "execution_count": 4,
   "source": [
    "\n",
    "from pyspark import SparkContext\n",
    "from loghandler import logger\n",
    " \n",
    "def word_count():\n",
    "\ttry:\n",
    "\t\n",
    "\t\t# create Spark context with necessary configuration\n",
    "\t\tsc = SparkContext(\"local\",\"PySpark Word Count\")\n",
    "\t\t\t\n",
    "\t\t# read data from text file and split each line into words\n",
    "\t\twords = sc.textFile(\"hdfs://localhost:9000/Demo/input.txt\").flatMap(lambda line: line.split(\" \"))\n",
    "\t\twordCounts = words.map(lambda word: (word, 1)).reduceByKey(lambda a,b:a + b)\n",
    "\t\twordCounts.saveAsTextFile(\"hdfs://localhost:9000/Demo/spark_output\")\n",
    "\texcept Exception as e:\n",
    "\t\tlogger.error(e)\n",
    "\t\n",
    "word_count()\n"
   ],
   "outputs": [],
   "metadata": {}
  }
 ],
 "metadata": {
  "orig_nbformat": 4,
  "language_info": {
   "name": "python",
   "version": "3.8.10",
   "mimetype": "text/x-python",
   "codemirror_mode": {
    "name": "ipython",
    "version": 3
   },
   "pygments_lexer": "ipython3",
   "nbconvert_exporter": "python",
   "file_extension": ".py"
  },
  "kernelspec": {
   "name": "python3",
   "display_name": "Python 3.8.10 64-bit"
  },
  "interpreter": {
   "hash": "916dbcbb3f70747c44a77c7bcd40155683ae19c65e1c03b4aa3499c5328201f1"
  }
 },
 "nbformat": 4,
 "nbformat_minor": 2
}